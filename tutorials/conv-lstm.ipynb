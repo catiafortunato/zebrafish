{
 "cells": [
  {
   "cell_type": "code",
   "execution_count": 1,
   "metadata": {},
   "outputs": [
    {
     "name": "stderr",
     "output_type": "stream",
     "text": [
      "Using TensorFlow backend.\n"
     ]
    }
   ],
   "source": [
    "from keras.models import Sequential\n",
    "from keras.layers.convolutional import Conv3D\n",
    "from keras.layers.convolutional_recurrent import ConvLSTM2D\n",
    "from keras.layers.normalization import BatchNormalization\n",
    "import numpy as np\n",
    "import pylab as plt"
   ]
  },
  {
   "cell_type": "code",
   "execution_count": 7,
   "metadata": {},
   "outputs": [],
   "source": [
    "seq = Sequential()\n",
    "seq.add(ConvLSTM2D(filters=40, kernel_size=(3, 3),\n",
    "                   input_shape=(None, 40, 40, 1),\n",
    "                   padding='same', return_sequences=True))\n",
    "seq.add(BatchNormalization())\n",
    "\n",
    "seq.add(ConvLSTM2D(filters=40, kernel_size=(3, 3),\n",
    "                   padding='same', return_sequences=True))\n",
    "seq.add(BatchNormalization())\n",
    "\n",
    "seq.add(ConvLSTM2D(filters=40, kernel_size=(3, 3),\n",
    "                   padding='same', return_sequences=True))\n",
    "seq.add(BatchNormalization())\n",
    "\n",
    "seq.add(ConvLSTM2D(filters=40, kernel_size=(3, 3),\n",
    "                   padding='same', return_sequences=True))\n",
    "seq.add(BatchNormalization())\n",
    "\n",
    "seq.add(Conv3D(filters=1, kernel_size=(3, 3, 3),\n",
    "               activation='sigmoid',\n",
    "               padding='same', data_format='channels_last'))\n",
    "seq.compile(loss='binary_crossentropy', optimizer='adadelta',metrics=['accuracy'])\n"
   ]
  },
  {
   "cell_type": "code",
   "execution_count": 8,
   "metadata": {},
   "outputs": [],
   "source": [
    "def generate_movies(n_samples=1200, n_frames=15):\n",
    "    row = 80\n",
    "    col = 80\n",
    "    noisy_movies = np.zeros((n_samples, n_frames, row, col, 1), dtype=np.float)\n",
    "    shifted_movies = np.zeros((n_samples, n_frames, row, col, 1),\n",
    "                              dtype=np.float)\n",
    "\n",
    "    for i in range(n_samples):\n",
    "        # Add 3 to 7 moving squares\n",
    "        n = np.random.randint(3, 8)\n",
    "\n",
    "        for j in range(n):\n",
    "            # Initial position\n",
    "            xstart = np.random.randint(20, 60)\n",
    "            ystart = np.random.randint(20, 60)\n",
    "            # Direction of motion\n",
    "            directionx = np.random.randint(0, 3) - 1\n",
    "            directiony = np.random.randint(0, 3) - 1\n",
    "\n",
    "            # Size of the square\n",
    "            w = np.random.randint(2, 4)\n",
    "\n",
    "            for t in range(n_frames):\n",
    "                x_shift = xstart + directionx * t\n",
    "                y_shift = ystart + directiony * t\n",
    "                noisy_movies[i, t, x_shift - w: x_shift + w,\n",
    "                             y_shift - w: y_shift + w, 0] += 1\n",
    "\n",
    "                # Make it more robust by adding noise.\n",
    "                # The idea is that if during inference,\n",
    "                # the value of the pixel is not exactly one,\n",
    "                # we need to train the network to be robust and still\n",
    "                # consider it as a pixel belonging to a square.\n",
    "                if np.random.randint(0, 2):\n",
    "                    noise_f = (-1)**np.random.randint(0, 2)\n",
    "                    noisy_movies[i, t,\n",
    "                                 x_shift - w - 1: x_shift + w + 1,\n",
    "                                 y_shift - w - 1: y_shift + w + 1,\n",
    "                                 0] += noise_f * 0.1\n",
    "\n",
    "                # Shift the ground truth by 1\n",
    "                x_shift = xstart + directionx * (t + 1)\n",
    "                y_shift = ystart + directiony * (t + 1)\n",
    "                shifted_movies[i, t, x_shift - w: x_shift + w,\n",
    "                               y_shift - w: y_shift + w, 0] += 1\n",
    "\n",
    "    # Cut to a 40x40 window\n",
    "    noisy_movies = noisy_movies[::, ::, 20:60, 20:60, ::]\n",
    "    shifted_movies = shifted_movies[::, ::, 20:60, 20:60, ::]\n",
    "    noisy_movies[noisy_movies >= 1] = 1\n",
    "    shifted_movies[shifted_movies >= 1] = 1\n",
    "    return noisy_movies, shifted_movies"
   ]
  },
  {
   "cell_type": "code",
   "execution_count": 9,
   "metadata": {},
   "outputs": [],
   "source": [
    "noisy_movies, shifted_movies = generate_movies(n_samples=1200)"
   ]
  },
  {
   "cell_type": "code",
   "execution_count": 10,
   "metadata": {},
   "outputs": [
    {
     "data": {
      "text/plain": [
       "(1200, 15, 40, 40, 1)"
      ]
     },
     "execution_count": 10,
     "metadata": {},
     "output_type": "execute_result"
    }
   ],
   "source": [
    "noisy_movies.shape"
   ]
  },
  {
   "cell_type": "code",
   "execution_count": null,
   "metadata": {},
   "outputs": [
    {
     "name": "stdout",
     "output_type": "stream",
     "text": [
      "Train on 950 samples, validate on 50 samples\n",
      "Epoch 1/300\n",
      "950/950 [==============================] - 1330s 1s/step - loss: 0.2968 - acc: 0.9018 - val_loss: 0.0729 - val_acc: 0.9897\n",
      "Epoch 2/300\n",
      "950/950 [==============================] - 1370s 1s/step - loss: 0.0272 - acc: 0.9952 - val_loss: 0.0131 - val_acc: 0.9984\n",
      "Epoch 3/300\n",
      "950/950 [==============================] - 1313s 1s/step - loss: 0.0045 - acc: 0.9993 - val_loss: 0.0036 - val_acc: 0.9994\n",
      "Epoch 4/300\n",
      "950/950 [==============================] - 1316s 1s/step - loss: 0.0015 - acc: 0.9997 - val_loss: 0.0014 - val_acc: 0.9996\n",
      "Epoch 5/300\n",
      "950/950 [==============================] - 1312s 1s/step - loss: 9.0439e-04 - acc: 0.9998 - val_loss: 8.3010e-04 - val_acc: 0.9998\n",
      "Epoch 6/300\n",
      "950/950 [==============================] - 1476s 2s/step - loss: 6.2705e-04 - acc: 0.9998 - val_loss: 7.3807e-04 - val_acc: 0.9998\n",
      "Epoch 7/300\n",
      "950/950 [==============================] - 2006s 2s/step - loss: 5.2261e-04 - acc: 0.9999 - val_loss: 5.8172e-04 - val_acc: 0.9998\n",
      "Epoch 8/300\n",
      "950/950 [==============================] - 1981s 2s/step - loss: 4.4744e-04 - acc: 0.9999 - val_loss: 5.7279e-04 - val_acc: 0.9998\n",
      "Epoch 9/300\n",
      "950/950 [==============================] - 1961s 2s/step - loss: 3.9854e-04 - acc: 0.9999 - val_loss: 4.8916e-04 - val_acc: 0.9999\n",
      "Epoch 10/300\n",
      "950/950 [==============================] - 1963s 2s/step - loss: 3.6080e-04 - acc: 0.9999 - val_loss: 4.4157e-04 - val_acc: 0.9999\n",
      "Epoch 11/300\n",
      "950/950 [==============================] - 1957s 2s/step - loss: 3.2734e-04 - acc: 0.9999 - val_loss: 3.8832e-04 - val_acc: 0.9999\n",
      "Epoch 12/300\n",
      "950/950 [==============================] - 1961s 2s/step - loss: 2.9602e-04 - acc: 0.9999 - val_loss: 3.5054e-04 - val_acc: 0.9999\n",
      "Epoch 13/300\n",
      "950/950 [==============================] - 1975s 2s/step - loss: 2.8089e-04 - acc: 0.9999 - val_loss: 3.2796e-04 - val_acc: 0.9999\n",
      "Epoch 14/300\n",
      "950/950 [==============================] - 1973s 2s/step - loss: 2.5645e-04 - acc: 0.9999 - val_loss: 3.1461e-04 - val_acc: 0.9999\n",
      "Epoch 15/300\n",
      "950/950 [==============================] - 1966s 2s/step - loss: 2.3851e-04 - acc: 0.9999 - val_loss: 2.9311e-04 - val_acc: 0.9999\n",
      "Epoch 16/300\n",
      "950/950 [==============================] - 1977s 2s/step - loss: 2.2641e-04 - acc: 0.9999 - val_loss: 3.0517e-04 - val_acc: 0.9999\n",
      "Epoch 17/300\n",
      "950/950 [==============================] - 1959s 2s/step - loss: 2.1495e-04 - acc: 1.0000 - val_loss: 2.7344e-04 - val_acc: 0.9999\n",
      "Epoch 18/300\n",
      "950/950 [==============================] - 1965s 2s/step - loss: 2.0424e-04 - acc: 1.0000 - val_loss: 2.4968e-04 - val_acc: 0.9999\n",
      "Epoch 19/300\n",
      "950/950 [==============================] - 1973s 2s/step - loss: 1.9436e-04 - acc: 1.0000 - val_loss: 2.4542e-04 - val_acc: 0.9999\n",
      "Epoch 20/300\n",
      "950/950 [==============================] - 1987s 2s/step - loss: 1.8735e-04 - acc: 1.0000 - val_loss: 2.4258e-04 - val_acc: 0.9999\n",
      "Epoch 21/300\n",
      "950/950 [==============================] - 1973s 2s/step - loss: 1.7885e-04 - acc: 1.0000 - val_loss: 2.7948e-04 - val_acc: 0.9999\n",
      "Epoch 22/300\n",
      "950/950 [==============================] - 1477s 2s/step - loss: 1.7144e-04 - acc: 1.0000 - val_loss: 2.1484e-04 - val_acc: 0.9999\n",
      "Epoch 23/300\n",
      "950/950 [==============================] - 1270s 1s/step - loss: 1.6746e-04 - acc: 1.0000 - val_loss: 2.1510e-04 - val_acc: 0.9999\n",
      "Epoch 24/300\n",
      "950/950 [==============================] - 1273s 1s/step - loss: 1.5684e-04 - acc: 1.0000 - val_loss: 2.1244e-04 - val_acc: 0.9999\n",
      "Epoch 25/300\n",
      "950/950 [==============================] - 1273s 1s/step - loss: 1.5680e-04 - acc: 1.0000 - val_loss: 2.0785e-04 - val_acc: 0.9999\n",
      "Epoch 26/300\n",
      "950/950 [==============================] - 1264s 1s/step - loss: 1.4698e-04 - acc: 1.0000 - val_loss: 2.0590e-04 - val_acc: 0.9999\n",
      "Epoch 27/300\n",
      "950/950 [==============================] - 1263s 1s/step - loss: 1.4408e-04 - acc: 1.0000 - val_loss: 2.2192e-04 - val_acc: 0.9999\n",
      "Epoch 28/300\n",
      "950/950 [==============================] - 1261s 1s/step - loss: 1.3766e-04 - acc: 1.0000 - val_loss: 1.9249e-04 - val_acc: 1.0000\n",
      "Epoch 29/300\n",
      "950/950 [==============================] - 1257s 1s/step - loss: 1.3460e-04 - acc: 1.0000 - val_loss: 1.9837e-04 - val_acc: 1.0000\n",
      "Epoch 30/300\n",
      "950/950 [==============================] - 1268s 1s/step - loss: 1.3382e-04 - acc: 1.0000 - val_loss: 2.1658e-04 - val_acc: 0.9999\n",
      "Epoch 31/300\n",
      "950/950 [==============================] - 1268s 1s/step - loss: 1.2683e-04 - acc: 1.0000 - val_loss: 1.8517e-04 - val_acc: 1.0000\n",
      "Epoch 32/300\n",
      "950/950 [==============================] - 1272s 1s/step - loss: 1.2275e-04 - acc: 1.0000 - val_loss: 1.9409e-04 - val_acc: 1.0000\n",
      "Epoch 33/300\n",
      "950/950 [==============================] - 1272s 1s/step - loss: 1.2092e-04 - acc: 1.0000 - val_loss: 2.1171e-04 - val_acc: 0.9999\n",
      "Epoch 34/300\n",
      "950/950 [==============================] - 1277s 1s/step - loss: 1.2019e-04 - acc: 1.0000 - val_loss: 1.8103e-04 - val_acc: 1.0000\n",
      "Epoch 35/300\n",
      "950/950 [==============================] - 1259s 1s/step - loss: 1.1505e-04 - acc: 1.0000 - val_loss: 1.9022e-04 - val_acc: 0.9999\n",
      "Epoch 36/300\n",
      "950/950 [==============================] - 1270s 1s/step - loss: 1.1142e-04 - acc: 1.0000 - val_loss: 1.7329e-04 - val_acc: 1.0000\n",
      "Epoch 37/300\n",
      "950/950 [==============================] - 1266s 1s/step - loss: 1.0859e-04 - acc: 1.0000 - val_loss: 1.8438e-04 - val_acc: 1.0000\n",
      "Epoch 38/300\n",
      "950/950 [==============================] - 1272s 1s/step - loss: 1.0616e-04 - acc: 1.0000 - val_loss: 1.7695e-04 - val_acc: 1.0000\n",
      "Epoch 39/300\n",
      "950/950 [==============================] - 1280s 1s/step - loss: 1.0385e-04 - acc: 1.0000 - val_loss: 1.9285e-04 - val_acc: 1.0000\n",
      "Epoch 40/300\n",
      " 80/950 [=>............................] - ETA: 19:02 - loss: 7.4469e-05 - acc: 1.0000"
     ]
    }
   ],
   "source": [
    "seq.fit(noisy_movies[:1000], shifted_movies[:1000], batch_size=10,\n",
    "        epochs=300, validation_split=0.05)"
   ]
  },
  {
   "cell_type": "code",
   "execution_count": null,
   "metadata": {},
   "outputs": [],
   "source": []
  }
 ],
 "metadata": {
  "kernelspec": {
   "display_name": "Python 3",
   "language": "python",
   "name": "python3"
  },
  "language_info": {
   "codemirror_mode": {
    "name": "ipython",
    "version": 3
   },
   "file_extension": ".py",
   "mimetype": "text/x-python",
   "name": "python",
   "nbconvert_exporter": "python",
   "pygments_lexer": "ipython3",
   "version": "3.6.8"
  }
 },
 "nbformat": 4,
 "nbformat_minor": 2
}
