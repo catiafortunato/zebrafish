{
 "cells": [
  {
   "cell_type": "markdown",
   "metadata": {},
   "source": [
    "## Data \n",
    "To better mimic the problem that we have, we are going to create a single sequence of moving numbers from the MNIST dataset. We then split the sequence into smaller ones. "
   ]
  },
  {
   "cell_type": "markdown",
   "metadata": {},
   "source": [
    "### Create movie"
   ]
  },
  {
   "cell_type": "code",
   "execution_count": 30,
   "metadata": {},
   "outputs": [],
   "source": [
    "import math\n",
    "import os\n",
    "import sys\n",
    "\n",
    "import numpy as np\n",
    "from PIL import Image\n",
    "\n",
    "\n",
    "###########################################################################################\n",
    "# script to generate moving mnist video dataset (frame by frame) as described in\n",
    "# [1] arXiv:1502.04681 - Unsupervised Learning of Video Representations Using LSTMs\n",
    "#     Srivastava et al\n",
    "# by Tencia Lee\n",
    "# saves in hdf5, npz, or jpg (individual frames) format\n",
    "###########################################################################################\n",
    "\n",
    "# helper functions\n",
    "def arr_from_img(im, mean=0, std=1):\n",
    "    '''\n",
    "    Args:\n",
    "        im: Image\n",
    "        shift: Mean to subtract\n",
    "        std: Standard Deviation to subtract\n",
    "    Returns:\n",
    "        Image in np.float32 format, in width height channel format. With values in range 0,1\n",
    "        Shift means subtract by certain value. Could be used for mean subtraction.\n",
    "    '''\n",
    "    width, height = im.size\n",
    "    arr = im.getdata()\n",
    "    c = int(np.product(arr.size) / (width * height))\n",
    "\n",
    "    return (np.asarray(arr, dtype=np.float32).reshape((height, width, c)).transpose(2, 1, 0) / 255. - mean) / std\n",
    "\n",
    "\n",
    "def get_image_from_array(X, index, mean=0, std=1):\n",
    "    '''\n",
    "    Args:\n",
    "        X: Dataset of shape N x C x W x H\n",
    "        index: Index of image we want to fetch\n",
    "        mean: Mean to add\n",
    "        std: Standard Deviation to add\n",
    "    Returns:\n",
    "        Image with dimensions H x W x C or H x W if it's a single channel image\n",
    "    '''\n",
    "    ch, w, h = X.shape[1], X.shape[2], X.shape[3]\n",
    "    ret = (((X[index] + mean) * 255.) * std).reshape(ch, w, h).transpose(2, 1, 0).clip(0, 255).astype(np.uint8)\n",
    "    if ch == 1:\n",
    "        ret = ret.reshape(h, w)\n",
    "    return ret\n",
    "\n",
    "\n",
    "# loads mnist from web on demand\n",
    "def load_dataset(training=True):\n",
    "    if sys.version_info[0] == 2:\n",
    "        from urllib import urlretrieve\n",
    "    else:\n",
    "        from urllib.request import urlretrieve\n",
    "\n",
    "    def download(filename, source='http://yann.lecun.com/exdb/mnist/'):\n",
    "        print(\"Downloading %s\" % filename)\n",
    "        urlretrieve(source + filename, filename)\n",
    "\n",
    "    import gzip\n",
    "    def load_mnist_images(filename):\n",
    "        if not os.path.exists(filename):\n",
    "            download(filename)\n",
    "        with gzip.open(filename, 'rb') as f:\n",
    "            data = np.frombuffer(f.read(), np.uint8, offset=16)\n",
    "        data = data.reshape(-1, 1, 28, 28).transpose(0, 1, 3, 2)\n",
    "        return data / np.float32(255)\n",
    "\n",
    "    if training:\n",
    "        return load_mnist_images('train-images-idx3-ubyte.gz')\n",
    "    return load_mnist_images('t10k-images-idx3-ubyte.gz')\n",
    "\n",
    "\n",
    "def generate_moving_mnist(training, shape=(64, 64), num_frames=10000, num_images=1, original_size=28, nums_per_image=2):\n",
    "    '''\n",
    "    Args:\n",
    "        training: Boolean, used to decide if downloading/generating train set or test set\n",
    "        shape: Shape we want for our moving images (new_width and new_height)\n",
    "        num_frames: Number of frames in a particular movement/animation/gif\n",
    "        num_images: Number of movement/animations/gif to generate\n",
    "        original_size: Real size of the images (eg: MNIST is 28x28)\n",
    "        nums_per_image: Digits per movement/animation/gif.\n",
    "    Returns:\n",
    "        Dataset of np.uint8 type with dimensions num_frames * num_images x 1 x new_width x new_height\n",
    "    '''\n",
    "    mnist = load_dataset(training)\n",
    "    width, height = shape\n",
    "\n",
    "    # Get how many pixels can we move around a single image\n",
    "    lims = (x_lim, y_lim) = width - original_size, height - original_size\n",
    "\n",
    "    # Create a dataset of shape of num_frames * num_images x 1 x new_width x new_height\n",
    "    # Eg : 3000000 x 1 x 64 x 64\n",
    "    dataset = np.empty((num_frames * num_images, 1, width, height), dtype=np.uint8)\n",
    "\n",
    "    for img_idx in range(num_images):\n",
    "        # Randomly generate direction, speed and velocity for both images\n",
    "        direcs = np.pi * (np.random.rand(nums_per_image) * 2 - 1)\n",
    "        speeds = np.random.randint(5, size=nums_per_image) + 2\n",
    "        veloc = np.asarray([(speed * math.cos(direc), speed * math.sin(direc)) for direc, speed in zip(direcs, speeds)])\n",
    "        # Get a list containing two PIL images randomly sampled from the database\n",
    "        mnist_images = [Image.fromarray(get_image_from_array(mnist, r, mean=0)).resize((original_size, original_size),\n",
    "                                                                                       Image.ANTIALIAS) \\\n",
    "                        for r in np.random.randint(0, mnist.shape[0], nums_per_image)]\n",
    "        # Generate tuples of (x,y) i.e initial positions for nums_per_image (default : 2)\n",
    "        positions = np.asarray([(np.random.rand() * x_lim, np.random.rand() * y_lim) for _ in range(nums_per_image)])\n",
    "\n",
    "        # Generate new frames for the entire num_framesgth\n",
    "        for frame_idx in range(num_frames):\n",
    "\n",
    "            canvases = [Image.new('L', (width, height)) for _ in range(nums_per_image)]\n",
    "            canvas = np.zeros((1, width, height), dtype=np.float32)\n",
    "\n",
    "            # In canv (i.e Image object) place the image at the respective positions\n",
    "            # Super impose both images on the canvas (i.e empty np array)\n",
    "            for i, canv in enumerate(canvases):\n",
    "                canv.paste(mnist_images[i], tuple(positions[i].astype(int)))\n",
    "                canvas += arr_from_img(canv, mean=0)\n",
    "\n",
    "            # Get the next position by adding velocity\n",
    "            next_pos = positions + veloc\n",
    "\n",
    "            # Iterate over velocity and see if we hit the wall\n",
    "            # If we do then change the  (change direction)\n",
    "            for i, pos in enumerate(next_pos):\n",
    "                for j, coord in enumerate(pos):\n",
    "                    if coord < -2 or coord > lims[j] + 2:\n",
    "                        veloc[i] = list(list(veloc[i][:j]) + [-1 * veloc[i][j]] + list(veloc[i][j + 1:]))\n",
    "\n",
    "            # Make the permanent change to position by adding updated velocity\n",
    "            positions = positions + veloc\n",
    "\n",
    "            # Add the canvas to the dataset array\n",
    "            dataset[img_idx * num_frames + frame_idx] = (canvas * 255).clip(0, 255).astype(np.uint8)\n",
    "\n",
    "    return dataset\n",
    "\n",
    "\n"
   ]
  },
  {
   "cell_type": "code",
   "execution_count": null,
   "metadata": {},
   "outputs": [],
   "source": [
    "data_set=generate_moving_mnist(True)"
   ]
  },
  {
   "cell_type": "code",
   "execution_count": 49,
   "metadata": {},
   "outputs": [
    {
     "data": {
      "text/plain": [
       "(10000, 1, 64, 64)"
      ]
     },
     "execution_count": 49,
     "metadata": {},
     "output_type": "execute_result"
    }
   ],
   "source": [
    "data_set.shape"
   ]
  },
  {
   "cell_type": "code",
   "execution_count": 81,
   "metadata": {},
   "outputs": [
    {
     "data": {
      "text/plain": [
       "<matplotlib.image.AxesImage at 0x7f352c19f6a0>"
      ]
     },
     "execution_count": 81,
     "metadata": {},
     "output_type": "execute_result"
    },
    {
     "data": {
      "image/png": "[encoded data removed]",
      "text/plain": [
       "<Figure size 432x288 with 1 Axes>"
      ]
     },
     "metadata": {
      "needs_background": "light"
     },
     "output_type": "display_data"
    }
   ],
   "source": [
    "import matplotlib.pyplot as plt\n",
    "plt.imshow(data_set[100][0])"
   ]
  },
  {
   "cell_type": "code",
   "execution_count": 78,
   "metadata": {},
   "outputs": [],
   "source": [
    "data_set=data_set/255"
   ]
  },
  {
   "cell_type": "code",
   "execution_count": 80,
   "metadata": {},
   "outputs": [
    {
     "data": {
      "text/plain": [
       "1.0"
      ]
     },
     "execution_count": 80,
     "metadata": {},
     "output_type": "execute_result"
    }
   ],
   "source": [
    "np.max(data_set)"
   ]
  },
  {
   "cell_type": "markdown",
   "metadata": {},
   "source": [
    "### Create training set: X"
   ]
  },
  {
   "cell_type": "code",
   "execution_count": 82,
   "metadata": {},
   "outputs": [],
   "source": [
    "past=10 #how far into the past we are looking\n",
    "input_data=np.zeros((len(data_set)-past-1,past,data_set.shape[2],data_set.shape[3],1))\n",
    "\n",
    "for i in range(past,len(data_set)-1):\n",
    "    input_data[i-past,:,:,:,0]=data_set[i-past:i,0,:,:]"
   ]
  },
  {
   "cell_type": "code",
   "execution_count": 83,
   "metadata": {},
   "outputs": [
    {
     "data": {
      "text/plain": [
       "(9989, 10, 64, 64, 1)"
      ]
     },
     "execution_count": 83,
     "metadata": {},
     "output_type": "execute_result"
    }
   ],
   "source": [
    "input_data.shape"
   ]
  },
  {
   "cell_type": "markdown",
   "metadata": {},
   "source": [
    "### Create training set: Y"
   ]
  },
  {
   "cell_type": "code",
   "execution_count": 84,
   "metadata": {},
   "outputs": [],
   "source": [
    "y_train=data_set[past+1:]"
   ]
  },
  {
   "cell_type": "code",
   "execution_count": 85,
   "metadata": {},
   "outputs": [
    {
     "data": {
      "text/plain": [
       "(9989, 1, 64, 64)"
      ]
     },
     "execution_count": 85,
     "metadata": {},
     "output_type": "execute_result"
    }
   ],
   "source": [
    "y_train.shape"
   ]
  },
  {
   "cell_type": "code",
   "execution_count": 86,
   "metadata": {},
   "outputs": [],
   "source": [
    "y_train=y_train.reshape(y_train.shape[0],1,y_train.shape[2],y_train.shape[3],1)"
   ]
  },
  {
   "cell_type": "code",
   "execution_count": 87,
   "metadata": {},
   "outputs": [
    {
     "data": {
      "text/plain": [
       "(9989, 1, 64, 64, 1)"
      ]
     },
     "execution_count": 87,
     "metadata": {},
     "output_type": "execute_result"
    }
   ],
   "source": [
    "y_train.shape"
   ]
  },
  {
   "cell_type": "markdown",
   "metadata": {},
   "source": [
    "## Model "
   ]
  },
  {
   "cell_type": "code",
   "execution_count": 68,
   "metadata": {},
   "outputs": [],
   "source": [
    "from keras.models import Sequential\n",
    "from keras.layers.convolutional import Conv3D\n",
    "from keras.layers.convolutional_recurrent import ConvLSTM2D\n",
    "from keras.layers.normalization import BatchNormalization\n",
    "import numpy as np\n",
    "import pylab as plt"
   ]
  },
  {
   "cell_type": "code",
   "execution_count": 88,
   "metadata": {},
   "outputs": [],
   "source": [
    "seq = Sequential()\n",
    "seq.add(ConvLSTM2D(filters=40, kernel_size=(3, 3),\n",
    "                   input_shape=(None, 64, 64, 1),\n",
    "                   padding='same', return_sequences=True))\n",
    "seq.add(BatchNormalization())\n",
    "\n",
    "seq.add(ConvLSTM2D(filters=40, kernel_size=(3, 3),\n",
    "                   padding='same', return_sequences=True))\n",
    "seq.add(BatchNormalization())\n",
    "\n",
    "#seq.add(ConvLSTM2D(filters=40, kernel_size=(3, 3),\n",
    "#                   padding='same', return_sequences=True))\n",
    "#seq.add(BatchNormalization())\n",
    "#\n",
    "#seq.add(ConvLSTM2D(filters=40, kernel_size=(3, 3),\n",
    "#                   padding='same', return_sequences=True))\n",
    "#seq.add(BatchNormalization())\n",
    "\n",
    "seq.add(Conv3D(filters=1, kernel_size=(3, 3, 3),\n",
    "               activation='sigmoid',\n",
    "               padding='same', data_format='channels_last'))\n",
    "seq.compile(loss='binary_crossentropy', optimizer='adadelta',metrics=['accuracy'])"
   ]
  },
  {
   "cell_type": "code",
   "execution_count": 89,
   "metadata": {},
   "outputs": [
    {
     "name": "stdout",
     "output_type": "stream",
     "text": [
      "_________________________________________________________________\n",
      "Layer (type)                 Output Shape              Param #   \n",
      "=================================================================\n",
      "conv_lst_m2d_7 (ConvLSTM2D)  (None, None, 64, 64, 40)  59200     \n",
      "_________________________________________________________________\n",
      "batch_normalization_7 (Batch (None, None, 64, 64, 40)  160       \n",
      "_________________________________________________________________\n",
      "conv_lst_m2d_8 (ConvLSTM2D)  (None, None, 64, 64, 40)  115360    \n",
      "_________________________________________________________________\n",
      "batch_normalization_8 (Batch (None, None, 64, 64, 40)  160       \n",
      "_________________________________________________________________\n",
      "conv3d_3 (Conv3D)            (None, None, 64, 64, 1)   1081      \n",
      "=================================================================\n",
      "Total params: 175,961\n",
      "Trainable params: 175,801\n",
      "Non-trainable params: 160\n",
      "_________________________________________________________________\n"
     ]
    }
   ],
   "source": [
    "seq.summary()"
   ]
  },
  {
   "cell_type": "code",
   "execution_count": null,
   "metadata": {},
   "outputs": [
    {
     "name": "stdout",
     "output_type": "stream",
     "text": [
      "Train on 9489 samples, validate on 500 samples\n",
      "Epoch 1/30\n",
      "3860/9489 [===========>..................] - ETA: 1:43:07 - loss: 0.2316 - acc: 0.9006"
     ]
    }
   ],
   "source": [
    "seq.fit(input_data, y_train, batch_size=10,\n",
    "        epochs=30, validation_split=0.05)"
   ]
  },
  {
   "cell_type": "code",
   "execution_count": null,
   "metadata": {},
   "outputs": [],
   "source": []
  }
 ],
 "metadata": {
  "kernelspec": {
   "display_name": "Python 3",
   "language": "python",
   "name": "python3"
  },
  "language_info": {
   "codemirror_mode": {
    "name": "ipython",
    "version": 3
   },
   "file_extension": ".py",
   "mimetype": "text/x-python",
   "name": "python",
   "nbconvert_exporter": "python",
   "pygments_lexer": "ipython3",
   "version": "3.6.8"
  }
 },
 "nbformat": 4,
 "nbformat_minor": 2
}
