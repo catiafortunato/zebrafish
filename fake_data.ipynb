{
 "cells": [
  {
   "cell_type": "code",
   "execution_count": 13,
   "metadata": {},
   "outputs": [],
   "source": [
    "import random\n",
    "import numpy as np"
   ]
  },
  {
   "cell_type": "markdown",
   "metadata": {},
   "source": [
    "## Create fake data"
   ]
  },
  {
   "cell_type": "code",
   "execution_count": 14,
   "metadata": {},
   "outputs": [
    {
     "data": {
      "text/plain": [
       "-0.6077718822069936"
      ]
     },
     "execution_count": 14,
     "metadata": {},
     "output_type": "execute_result"
    }
   ],
   "source": [
    "random.uniform(-1, 0)"
   ]
  },
  {
   "cell_type": "code",
   "execution_count": 113,
   "metadata": {},
   "outputs": [],
   "source": [
    "num_samples=10000\n",
    "res=8\n",
    "data=np.zeros((num_samples,28,28))\n",
    "labels=np.zeros((num_samples))"
   ]
  },
  {
   "cell_type": "code",
   "execution_count": 114,
   "metadata": {},
   "outputs": [],
   "source": [
    "for i in range(0,num_samples):\n",
    "    a=random.uniform(0,1)\n",
    "    img=np.zeros((28,28))\n",
    "    if a>0.5:#create fake activation of the right\n",
    "        for j in range(0,14):\n",
    "            for k in range(0,28):\n",
    "                img[j,k]=random.uniform(0,1)\n",
    "        for j in range(14,28):\n",
    "            for k in range(0,28):\n",
    "                img[j,k]=random.uniform(-1,0)\n",
    "        labels[i]=1\n",
    "    else:#create fake activation of the left\n",
    "        for j in range(0,14):\n",
    "            for k in range (0,28):\n",
    "                img[j,k]=random.uniform(-1,0)\n",
    "        for j in range(14,28):\n",
    "            for k in range(0,28):\n",
    "                img[j,k]=random.uniform(0,1)\n",
    "        labels[i]=0\n",
    "    data[i,:,:]=img\n",
    "        "
   ]
  },
  {
   "cell_type": "code",
   "execution_count": 115,
   "metadata": {},
   "outputs": [
    {
     "data": {
      "text/plain": [
       "array([[[ 0.75011512,  0.72303057,  0.50201683, ...,  0.13700966,\n",
       "          0.24293974,  0.12425222],\n",
       "        [ 0.56340298,  0.77689937,  0.24405093, ...,  0.3699517 ,\n",
       "          0.18801088,  0.9701397 ],\n",
       "        [ 0.10846122,  0.80333829,  0.23495602, ...,  0.5452757 ,\n",
       "          0.86335706,  0.82477015],\n",
       "        ...,\n",
       "        [-0.70715148, -0.46632581, -0.19345363, ..., -0.84355621,\n",
       "         -0.07253697, -0.03341951],\n",
       "        [-0.52766629, -0.54643249, -0.74928557, ..., -0.45987012,\n",
       "         -0.3240502 , -0.54795804],\n",
       "        [-0.28902044, -0.4865757 , -0.12544675, ..., -0.84095091,\n",
       "         -0.03082388, -0.18173462]],\n",
       "\n",
       "       [[ 0.67487753,  0.44998007,  0.97876684, ...,  0.04278635,\n",
       "          0.93333542,  0.2559696 ],\n",
       "        [ 0.48979615,  0.31736229,  0.4194019 , ...,  0.12513284,\n",
       "          0.61402339,  0.73651664],\n",
       "        [ 0.21820988,  0.26586725,  0.49514987, ...,  0.00169354,\n",
       "          0.23350101,  0.3821209 ],\n",
       "        ...,\n",
       "        [-0.19234221, -0.43351047, -0.07183497, ..., -0.03446918,\n",
       "         -0.84546232, -0.02882536],\n",
       "        [-0.91355118, -0.68667354, -0.54383272, ..., -0.91621243,\n",
       "         -0.06077781, -0.26841469],\n",
       "        [-0.81455343, -0.39677691, -0.78691306, ..., -0.93532096,\n",
       "         -0.75453264, -0.21205033]],\n",
       "\n",
       "       [[ 0.84082631,  0.67445615,  0.77382489, ...,  0.19983315,\n",
       "          0.09694895,  0.45982083],\n",
       "        [ 0.2417757 ,  0.63178815,  0.68378636, ...,  0.95582368,\n",
       "          0.15705644,  0.67854018],\n",
       "        [ 0.980607  ,  0.56205603,  0.77655576, ...,  0.83655583,\n",
       "          0.10600981,  0.61056677],\n",
       "        ...,\n",
       "        [-0.80621544, -0.98125474, -0.4480284 , ..., -0.34180261,\n",
       "         -0.37608324, -0.7237386 ],\n",
       "        [-0.09656612, -0.56311943, -0.84093584, ..., -0.00292224,\n",
       "         -0.35360092, -0.12508512],\n",
       "        [-0.51960837, -0.01175579, -0.95118612, ..., -0.36378216,\n",
       "         -0.36461372, -0.93653586]],\n",
       "\n",
       "       ...,\n",
       "\n",
       "       [[ 0.83921134,  0.4087817 ,  0.27682981, ...,  0.53103566,\n",
       "          0.20322962,  0.47530839],\n",
       "        [ 0.56868519,  0.47782745,  0.75350806, ...,  0.17622519,\n",
       "          0.77001703,  0.62947215],\n",
       "        [ 0.62222353,  0.29775723,  0.86379057, ...,  0.64904529,\n",
       "          0.27319862,  0.5153592 ],\n",
       "        ...,\n",
       "        [-0.33047176, -0.56460332, -0.10031951, ..., -0.27752488,\n",
       "         -0.70961491, -0.82594768],\n",
       "        [-0.0181627 , -0.48974497, -0.11237531, ..., -0.31451051,\n",
       "         -0.18428816, -0.17632093],\n",
       "        [-0.98188006, -0.10665792, -0.32780595, ..., -0.30905017,\n",
       "         -0.98626796, -0.30950503]],\n",
       "\n",
       "       [[ 0.13432283,  0.35014847,  0.41745099, ...,  0.14019226,\n",
       "          0.93724224,  0.51334982],\n",
       "        [ 0.44963003,  0.61680725,  0.39723112, ...,  0.63717557,\n",
       "          0.06248966,  0.50914311],\n",
       "        [ 0.33650184,  0.68438179,  0.03020527, ...,  0.6828194 ,\n",
       "          0.90705336,  0.211906  ],\n",
       "        ...,\n",
       "        [-0.51984497, -0.02816868, -0.26423344, ..., -0.73887758,\n",
       "         -0.9782356 , -0.28309243],\n",
       "        [-0.38998041, -0.88034685, -0.98983555, ..., -0.72060926,\n",
       "         -0.41637199, -0.7810122 ],\n",
       "        [-0.38594651, -0.83224145, -0.76941953, ..., -0.73119774,\n",
       "         -0.69551575, -0.02902479]],\n",
       "\n",
       "       [[-0.38356496, -0.16409519, -0.92305739, ..., -0.45285224,\n",
       "         -0.34502667, -0.38449595],\n",
       "        [-0.57671288, -0.35169881, -0.1346729 , ..., -0.66747852,\n",
       "         -0.06773797, -0.25431269],\n",
       "        [-0.86712457, -0.07922077, -0.38595288, ..., -0.18690081,\n",
       "         -0.55269245, -0.34129942],\n",
       "        ...,\n",
       "        [ 0.61850485,  0.64432607,  0.96365635, ...,  0.98007159,\n",
       "          0.05826535,  0.01044061],\n",
       "        [ 0.046287  ,  0.0687184 ,  0.12076245, ...,  0.21172943,\n",
       "          0.97716356,  0.11188102],\n",
       "        [ 0.92991282,  0.84862531,  0.65322688, ...,  0.31226113,\n",
       "          0.15943226,  0.35914165]]])"
      ]
     },
     "execution_count": 115,
     "metadata": {},
     "output_type": "execute_result"
    }
   ],
   "source": [
    "data"
   ]
  },
  {
   "cell_type": "code",
   "execution_count": 116,
   "metadata": {},
   "outputs": [],
   "source": [
    "count0=0\n",
    "count1=0\n",
    "for i in range(0,len(labels)):\n",
    "    if labels[i]==0:\n",
    "        count0=count0+1\n",
    "    else:\n",
    "        count1=count1+1"
   ]
  },
  {
   "cell_type": "code",
   "execution_count": 117,
   "metadata": {},
   "outputs": [
    {
     "data": {
      "text/plain": [
       "5005"
      ]
     },
     "execution_count": 117,
     "metadata": {},
     "output_type": "execute_result"
    }
   ],
   "source": [
    "count0"
   ]
  },
  {
   "cell_type": "code",
   "execution_count": 118,
   "metadata": {},
   "outputs": [
    {
     "data": {
      "text/plain": [
       "4995"
      ]
     },
     "execution_count": 118,
     "metadata": {},
     "output_type": "execute_result"
    }
   ],
   "source": [
    "count1"
   ]
  },
  {
   "cell_type": "code",
   "execution_count": 119,
   "metadata": {},
   "outputs": [],
   "source": [
    "x_train=data[0:8000]\n",
    "x_test=data[8000:]\n",
    "y_train=labels[0:8000]\n",
    "y_test=data[8000:]"
   ]
  },
  {
   "cell_type": "code",
   "execution_count": 120,
   "metadata": {},
   "outputs": [
    {
     "data": {
      "text/plain": [
       "(8000, 28, 28)"
      ]
     },
     "execution_count": 120,
     "metadata": {},
     "output_type": "execute_result"
    }
   ],
   "source": [
    "x_train.shape"
   ]
  },
  {
   "cell_type": "code",
   "execution_count": 121,
   "metadata": {},
   "outputs": [
    {
     "data": {
      "text/plain": [
       "(2000, 28, 28)"
      ]
     },
     "execution_count": 121,
     "metadata": {},
     "output_type": "execute_result"
    }
   ],
   "source": [
    "x_test.shape"
   ]
  },
  {
   "cell_type": "code",
   "execution_count": 122,
   "metadata": {},
   "outputs": [
    {
     "data": {
      "text/plain": [
       "(8000,)"
      ]
     },
     "execution_count": 122,
     "metadata": {},
     "output_type": "execute_result"
    }
   ],
   "source": [
    "y_train.shape"
   ]
  },
  {
   "cell_type": "code",
   "execution_count": 123,
   "metadata": {},
   "outputs": [
    {
     "data": {
      "text/plain": [
       "(2000, 28, 28)"
      ]
     },
     "execution_count": 123,
     "metadata": {},
     "output_type": "execute_result"
    }
   ],
   "source": [
    "y_test.shape"
   ]
  },
  {
   "cell_type": "markdown",
   "metadata": {},
   "source": [
    "## Create Model "
   ]
  },
  {
   "cell_type": "code",
   "execution_count": 124,
   "metadata": {},
   "outputs": [],
   "source": [
    "import tensorflow as tf\n",
    "import keras\n",
    "from keras import layers\n",
    "from keras import Sequential\n",
    "from keras.layers import Dense\n",
    "from keras.layers import Flatten\n",
    "from keras.layers.convolutional import Conv2D\n",
    "from keras.layers.convolutional import MaxPooling2D\n",
    "from keras.layers import Dropout"
   ]
  },
  {
   "cell_type": "code",
   "execution_count": 136,
   "metadata": {},
   "outputs": [],
   "source": [
    "x_train = x_train.reshape(x_train.shape[0], 28, 28,1)\n",
    "x_test = x_test.reshape(x_test.shape[0], 28, 28,1)"
   ]
  },
  {
   "cell_type": "code",
   "execution_count": 137,
   "metadata": {},
   "outputs": [],
   "source": [
    "model = Sequential()\n",
    "model.add(Conv2D(32, kernel_size=(3, 3),activation='relu',input_shape=(28,28,1),data_format='channels_last'))  \n",
    "model.add(MaxPooling2D(pool_size=(2, 2)))\n",
    "model.add(Conv2D(64, (3, 3), activation='relu'))\n",
    "model.add(MaxPooling2D(pool_size=(2, 2)))\n",
    "model.add(Dropout(0.25))\n",
    "model.add(Flatten())\n",
    "model.add(Dense(128, activation='relu'))\n",
    "model.add(Dropout(0.5))\n",
    "model.add(Dense(1, activation='sigmoid'))\n",
    "\n",
    "model.compile(loss=keras.losses.categorical_crossentropy,\n",
    "              optimizer=keras.optimizers.Adam(),\n",
    "              metrics=['accuracy'])"
   ]
  },
  {
   "cell_type": "code",
   "execution_count": 138,
   "metadata": {},
   "outputs": [],
   "source": [
    "model.compile(optimizer='rmsprop',loss='binary_crossentropy',metrics=['acc'])"
   ]
  },
  {
   "cell_type": "code",
   "execution_count": 139,
   "metadata": {},
   "outputs": [
    {
     "name": "stdout",
     "output_type": "stream",
     "text": [
      "Train on 6400 samples, validate on 1600 samples\n",
      "Epoch 1/50\n",
      "6400/6400 [==============================] - 3s 544us/step - loss: 0.0042 - acc: 0.9978 - val_loss: 1.0980e-07 - val_acc: 1.0000\n",
      "Epoch 2/50\n",
      "6400/6400 [==============================] - 3s 433us/step - loss: 1.1360e-07 - acc: 1.0000 - val_loss: 1.0980e-07 - val_acc: 1.0000\n",
      "Epoch 3/50\n",
      "6400/6400 [==============================] - 3s 430us/step - loss: 1.1017e-07 - acc: 1.0000 - val_loss: 1.0980e-07 - val_acc: 1.0000\n",
      "Epoch 4/50\n",
      "6400/6400 [==============================] - 3s 436us/step - loss: 1.1005e-07 - acc: 1.0000 - val_loss: 1.0980e-07 - val_acc: 1.0000\n",
      "Epoch 5/50\n",
      "6400/6400 [==============================] - 3s 446us/step - loss: 1.0953e-07 - acc: 1.0000 - val_loss: 1.0980e-07 - val_acc: 1.0000\n",
      "Epoch 6/50\n",
      "6400/6400 [==============================] - 3s 452us/step - loss: 1.0977e-07 - acc: 1.0000 - val_loss: 1.0980e-07 - val_acc: 1.0000\n",
      "Epoch 7/50\n",
      "6400/6400 [==============================] - 3s 410us/step - loss: 1.0953e-07 - acc: 1.0000 - val_loss: 1.0980e-07 - val_acc: 1.0000\n",
      "Epoch 8/50\n",
      "6400/6400 [==============================] - 3s 425us/step - loss: 1.0955e-07 - acc: 1.0000 - val_loss: 1.0980e-07 - val_acc: 1.0000\n",
      "Epoch 9/50\n",
      "6400/6400 [==============================] - 3s 425us/step - loss: 1.0954e-07 - acc: 1.0000 - val_loss: 1.0980e-07 - val_acc: 1.0000\n",
      "Epoch 10/50\n",
      "6400/6400 [==============================] - 3s 415us/step - loss: 1.0979e-07 - acc: 1.0000 - val_loss: 1.0980e-07 - val_acc: 1.0000\n",
      "Epoch 11/50\n",
      "6400/6400 [==============================] - 3s 422us/step - loss: 1.0953e-07 - acc: 1.0000 - val_loss: 1.0980e-07 - val_acc: 1.0000\n",
      "Epoch 12/50\n",
      "6400/6400 [==============================] - 3s 438us/step - loss: 1.0980e-07 - acc: 1.0000 - val_loss: 1.0980e-07 - val_acc: 1.0000\n",
      "Epoch 13/50\n",
      "6400/6400 [==============================] - 3s 430us/step - loss: 1.0955e-07 - acc: 1.0000 - val_loss: 1.0980e-07 - val_acc: 1.0000\n",
      "Epoch 14/50\n",
      "6400/6400 [==============================] - 3s 440us/step - loss: 1.0952e-07 - acc: 1.0000 - val_loss: 1.0980e-07 - val_acc: 1.0000\n",
      "Epoch 15/50\n",
      "6400/6400 [==============================] - 4s 581us/step - loss: 1.0975e-07 - acc: 1.0000 - val_loss: 1.0980e-07 - val_acc: 1.0000\n",
      "Epoch 16/50\n",
      "6400/6400 [==============================] - 4s 603us/step - loss: 1.0952e-07 - acc: 1.0000 - val_loss: 1.0980e-07 - val_acc: 1.0000\n",
      "Epoch 17/50\n",
      "6400/6400 [==============================] - 4s 623us/step - loss: 1.1414e-07 - acc: 1.0000 - val_loss: 1.0980e-07 - val_acc: 1.0000\n",
      "Epoch 18/50\n",
      "6400/6400 [==============================] - 4s 627us/step - loss: 1.0952e-07 - acc: 1.0000 - val_loss: 1.0980e-07 - val_acc: 1.0000\n",
      "Epoch 19/50\n",
      "6400/6400 [==============================] - 4s 649us/step - loss: 1.0952e-07 - acc: 1.0000 - val_loss: 1.0980e-07 - val_acc: 1.0000\n",
      "Epoch 20/50\n",
      "6400/6400 [==============================] - 4s 638us/step - loss: 1.0952e-07 - acc: 1.0000 - val_loss: 1.0980e-07 - val_acc: 1.0000\n",
      "Epoch 21/50\n",
      "6400/6400 [==============================] - 4s 614us/step - loss: 1.0954e-07 - acc: 1.0000 - val_loss: 1.0980e-07 - val_acc: 1.0000\n",
      "Epoch 22/50\n",
      "6400/6400 [==============================] - 4s 650us/step - loss: 1.0952e-07 - acc: 1.0000 - val_loss: 1.0980e-07 - val_acc: 1.0000\n",
      "Epoch 23/50\n",
      "6400/6400 [==============================] - 4s 686us/step - loss: 1.0952e-07 - acc: 1.0000 - val_loss: 1.0980e-07 - val_acc: 1.0000\n",
      "Epoch 24/50\n",
      "6400/6400 [==============================] - 4s 683us/step - loss: 1.0952e-07 - acc: 1.0000 - val_loss: 1.0980e-07 - val_acc: 1.0000\n",
      "Epoch 25/50\n",
      "6400/6400 [==============================] - 4s 647us/step - loss: 1.0952e-07 - acc: 1.0000 - val_loss: 1.0980e-07 - val_acc: 1.0000\n",
      "Epoch 26/50\n",
      "6400/6400 [==============================] - 4s 645us/step - loss: 1.0952e-07 - acc: 1.0000 - val_loss: 1.0980e-07 - val_acc: 1.0000\n",
      "Epoch 27/50\n",
      "6400/6400 [==============================] - 4s 642us/step - loss: 1.0966e-07 - acc: 1.0000 - val_loss: 1.0980e-07 - val_acc: 1.0000\n",
      "Epoch 28/50\n",
      "6400/6400 [==============================] - 4s 612us/step - loss: 1.0952e-07 - acc: 1.0000 - val_loss: 1.0980e-07 - val_acc: 1.0000\n",
      "Epoch 29/50\n",
      "6400/6400 [==============================] - 4s 614us/step - loss: 1.0952e-07 - acc: 1.0000 - val_loss: 1.0980e-07 - val_acc: 1.0000\n",
      "Epoch 30/50\n",
      "6400/6400 [==============================] - 5s 706us/step - loss: 1.0954e-07 - acc: 1.0000 - val_loss: 1.0980e-07 - val_acc: 1.0000\n",
      "Epoch 31/50\n",
      "6400/6400 [==============================] - 4s 629us/step - loss: 1.0952e-07 - acc: 1.0000 - val_loss: 1.0980e-07 - val_acc: 1.0000\n",
      "Epoch 32/50\n",
      "6400/6400 [==============================] - 4s 670us/step - loss: 1.0961e-07 - acc: 1.0000 - val_loss: 1.0980e-07 - val_acc: 1.0000\n",
      "Epoch 33/50\n",
      "6400/6400 [==============================] - 4s 569us/step - loss: 1.0952e-07 - acc: 1.0000 - val_loss: 1.0980e-07 - val_acc: 1.0000\n",
      "Epoch 34/50\n",
      "6400/6400 [==============================] - 3s 447us/step - loss: 1.0952e-07 - acc: 1.0000 - val_loss: 1.0980e-07 - val_acc: 1.0000\n",
      "Epoch 35/50\n",
      "6400/6400 [==============================] - 3s 458us/step - loss: 1.0952e-07 - acc: 1.0000 - val_loss: 1.0980e-07 - val_acc: 1.0000\n",
      "Epoch 36/50\n",
      "6400/6400 [==============================] - 3s 430us/step - loss: 1.0952e-07 - acc: 1.0000 - val_loss: 1.0980e-07 - val_acc: 1.0000\n",
      "Epoch 37/50\n",
      "6400/6400 [==============================] - 3s 425us/step - loss: 1.0952e-07 - acc: 1.0000 - val_loss: 1.0980e-07 - val_acc: 1.0000\n",
      "Epoch 38/50\n",
      "6400/6400 [==============================] - 3s 415us/step - loss: 1.0952e-07 - acc: 1.0000 - val_loss: 1.0980e-07 - val_acc: 1.0000\n",
      "Epoch 39/50\n",
      "6400/6400 [==============================] - 3s 415us/step - loss: 1.0952e-07 - acc: 1.0000 - val_loss: 1.0980e-07 - val_acc: 1.0000\n",
      "Epoch 40/50\n",
      "6400/6400 [==============================] - 3s 430us/step - loss: 1.0952e-07 - acc: 1.0000 - val_loss: 1.0980e-07 - val_acc: 1.0000\n",
      "Epoch 41/50\n",
      "6400/6400 [==============================] - 3s 418us/step - loss: 1.0987e-07 - acc: 1.0000 - val_loss: 1.0980e-07 - val_acc: 1.0000\n",
      "Epoch 42/50\n",
      "6400/6400 [==============================] - 3s 443us/step - loss: 1.0952e-07 - acc: 1.0000 - val_loss: 1.0980e-07 - val_acc: 1.0000\n",
      "Epoch 43/50\n",
      "6400/6400 [==============================] - 3s 426us/step - loss: 1.0952e-07 - acc: 1.0000 - val_loss: 1.0980e-07 - val_acc: 1.0000\n",
      "Epoch 44/50\n",
      "6400/6400 [==============================] - 3s 428us/step - loss: 1.0952e-07 - acc: 1.0000 - val_loss: 1.0980e-07 - val_acc: 1.0000\n",
      "Epoch 45/50\n",
      "6400/6400 [==============================] - 3s 432us/step - loss: 1.0952e-07 - acc: 1.0000 - val_loss: 1.0980e-07 - val_acc: 1.0000\n",
      "Epoch 46/50\n",
      "6400/6400 [==============================] - 3s 413us/step - loss: 1.0958e-07 - acc: 1.0000 - val_loss: 1.0980e-07 - val_acc: 1.0000\n",
      "Epoch 47/50\n",
      "6400/6400 [==============================] - 3s 430us/step - loss: 1.0952e-07 - acc: 1.0000 - val_loss: 1.0980e-07 - val_acc: 1.0000\n",
      "Epoch 48/50\n",
      "6400/6400 [==============================] - 4s 643us/step - loss: 1.0958e-07 - acc: 1.0000 - val_loss: 1.0980e-07 - val_acc: 1.0000\n",
      "Epoch 49/50\n",
      "6400/6400 [==============================] - 4s 638us/step - loss: 1.0957e-07 - acc: 1.0000 - val_loss: 1.0980e-07 - val_acc: 1.0000\n",
      "Epoch 50/50\n",
      "6400/6400 [==============================] - 4s 659us/step - loss: 1.0952e-07 - acc: 1.0000 - val_loss: 1.0980e-07 - val_acc: 1.0000\n"
     ]
    }
   ],
   "source": [
    "history=model.fit(x_train,y_train,epochs=50,validation_split=0.2)"
   ]
  },
  {
   "cell_type": "code",
   "execution_count": 133,
   "metadata": {},
   "outputs": [],
   "source": [
    "model2=Sequential()\n",
    "model2.add(Flatten(input_shape=(28,28)))\n",
    "model2.add(Dense(200,activation='relu'))\n",
    "model2.add(Dense(200,activation='relu'))\n",
    "model2.add(Dropout(0.3))\n",
    "model2.add(Dense(1,activation='sigmoid'))"
   ]
  },
  {
   "cell_type": "code",
   "execution_count": 134,
   "metadata": {},
   "outputs": [],
   "source": [
    "model2.compile(optimizer='adam', \n",
    "              loss='binary_crossentropy',\n",
    "              metrics=['accuracy'])"
   ]
  },
  {
   "cell_type": "code",
   "execution_count": 135,
   "metadata": {},
   "outputs": [
    {
     "name": "stdout",
     "output_type": "stream",
     "text": [
      "Epoch 1/50\n",
      "8000/8000 [==============================] - 1s 162us/step - loss: 0.0041 - acc: 0.9978\n",
      "Epoch 2/50\n",
      "8000/8000 [==============================] - 1s 95us/step - loss: 1.1016e-07 - acc: 1.0000\n",
      "Epoch 3/50\n",
      "8000/8000 [==============================] - 1s 95us/step - loss: 1.1015e-07 - acc: 1.0000\n",
      "Epoch 4/50\n",
      "8000/8000 [==============================] - 1s 95us/step - loss: 1.0992e-07 - acc: 1.0000\n",
      "Epoch 5/50\n",
      "8000/8000 [==============================] - 1s 95us/step - loss: 1.1012e-07 - acc: 1.0000\n",
      "Epoch 6/50\n",
      "8000/8000 [==============================] - 1s 95us/step - loss: 1.1016e-07 - acc: 1.0000\n",
      "Epoch 7/50\n",
      "8000/8000 [==============================] - 1s 95us/step - loss: 1.1013e-07 - acc: 1.0000\n",
      "Epoch 8/50\n",
      "8000/8000 [==============================] - 1s 96us/step - loss: 1.0994e-07 - acc: 1.0000\n",
      "Epoch 9/50\n",
      "8000/8000 [==============================] - 1s 96us/step - loss: 1.1088e-07 - acc: 1.0000\n",
      "Epoch 10/50\n",
      "8000/8000 [==============================] - 1s 99us/step - loss: 1.1046e-07 - acc: 1.0000\n",
      "Epoch 11/50\n",
      "8000/8000 [==============================] - 1s 95us/step - loss: 1.1095e-07 - acc: 1.0000\n",
      "Epoch 12/50\n",
      "8000/8000 [==============================] - 1s 95us/step - loss: 1.0977e-07 - acc: 1.0000\n",
      "Epoch 13/50\n",
      "8000/8000 [==============================] - 1s 97us/step - loss: 1.1073e-07 - acc: 1.0000\n",
      "Epoch 14/50\n",
      "8000/8000 [==============================] - 1s 95us/step - loss: 1.1016e-07 - acc: 1.0000\n",
      "Epoch 15/50\n",
      "8000/8000 [==============================] - 1s 95us/step - loss: 1.1044e-07 - acc: 1.0000\n",
      "Epoch 16/50\n",
      "8000/8000 [==============================] - 1s 97us/step - loss: 1.1031e-07 - acc: 1.0000\n",
      "Epoch 17/50\n",
      "8000/8000 [==============================] - 1s 98us/step - loss: 1.0983e-07 - acc: 1.0000\n",
      "Epoch 18/50\n",
      "8000/8000 [==============================] - 1s 95us/step - loss: 1.1009e-07 - acc: 1.0000\n",
      "Epoch 19/50\n",
      "8000/8000 [==============================] - 1s 98us/step - loss: 1.1032e-07 - acc: 1.0000\n",
      "Epoch 20/50\n",
      "8000/8000 [==============================] - 1s 96us/step - loss: 1.1008e-07 - acc: 1.0000\n",
      "Epoch 21/50\n",
      "8000/8000 [==============================] - 1s 98us/step - loss: 1.1071e-07 - acc: 1.0000\n",
      "Epoch 22/50\n",
      "8000/8000 [==============================] - 1s 97us/step - loss: 1.0993e-07 - acc: 1.0000\n",
      "Epoch 23/50\n",
      "8000/8000 [==============================] - 1s 99us/step - loss: 1.1019e-07 - acc: 1.0000\n",
      "Epoch 24/50\n",
      "8000/8000 [==============================] - 1s 95us/step - loss: 1.1000e-07 - acc: 1.0000\n",
      "Epoch 25/50\n",
      "8000/8000 [==============================] - 1s 96us/step - loss: 1.1018e-07 - acc: 1.0000\n",
      "Epoch 26/50\n",
      "8000/8000 [==============================] - 1s 98us/step - loss: 1.1016e-07 - acc: 1.0000\n",
      "Epoch 27/50\n",
      "8000/8000 [==============================] - 1s 97us/step - loss: 1.1043e-07 - acc: 1.0000\n",
      "Epoch 28/50\n",
      "8000/8000 [==============================] - 1s 97us/step - loss: 1.1038e-07 - acc: 1.0000\n",
      "Epoch 29/50\n",
      "8000/8000 [==============================] - 1s 98us/step - loss: 1.0992e-07 - acc: 1.0000\n",
      "Epoch 30/50\n",
      "8000/8000 [==============================] - 1s 99us/step - loss: 1.0993e-07 - acc: 1.0000\n",
      "Epoch 31/50\n",
      "8000/8000 [==============================] - 1s 95us/step - loss: 1.0982e-07 - acc: 1.0000\n",
      "Epoch 32/50\n",
      "8000/8000 [==============================] - 1s 98us/step - loss: 1.1014e-07 - acc: 1.0000\n",
      "Epoch 33/50\n",
      "8000/8000 [==============================] - 1s 97us/step - loss: 1.0977e-07 - acc: 1.0000\n",
      "Epoch 34/50\n",
      "8000/8000 [==============================] - 1s 96us/step - loss: 1.0997e-07 - acc: 1.0000\n",
      "Epoch 35/50\n",
      "8000/8000 [==============================] - 1s 96us/step - loss: 1.0991e-07 - acc: 1.0000\n",
      "Epoch 36/50\n",
      "8000/8000 [==============================] - 1s 100us/step - loss: 1.0968e-07 - acc: 1.0000\n",
      "Epoch 37/50\n",
      "8000/8000 [==============================] - 1s 95us/step - loss: 1.0971e-07 - acc: 1.0000\n",
      "Epoch 38/50\n",
      "8000/8000 [==============================] - 1s 97us/step - loss: 1.0984e-07 - acc: 1.0000\n",
      "Epoch 39/50\n",
      "8000/8000 [==============================] - 1s 98us/step - loss: 1.0969e-07 - acc: 1.0000\n",
      "Epoch 40/50\n",
      "8000/8000 [==============================] - 1s 99us/step - loss: 1.1001e-07 - acc: 1.0000\n",
      "Epoch 41/50\n",
      "8000/8000 [==============================] - 1s 96us/step - loss: 1.0991e-07 - acc: 1.0000\n",
      "Epoch 42/50\n",
      "8000/8000 [==============================] - 1s 98us/step - loss: 1.0964e-07 - acc: 1.0000\n",
      "Epoch 43/50\n",
      "8000/8000 [==============================] - 1s 97us/step - loss: 1.0994e-07 - acc: 1.0000\n",
      "Epoch 44/50\n",
      "8000/8000 [==============================] - 1s 99us/step - loss: 1.0991e-07 - acc: 1.0000\n",
      "Epoch 45/50\n",
      "8000/8000 [==============================] - 1s 97us/step - loss: 1.0970e-07 - acc: 1.0000\n",
      "Epoch 46/50\n",
      "8000/8000 [==============================] - 1s 97us/step - loss: 1.0976e-07 - acc: 1.0000\n",
      "Epoch 47/50\n",
      "8000/8000 [==============================] - 1s 95us/step - loss: 1.0962e-07 - acc: 1.0000\n",
      "Epoch 48/50\n",
      "8000/8000 [==============================] - 1s 97us/step - loss: 1.0975e-07 - acc: 1.0000\n",
      "Epoch 49/50\n",
      "8000/8000 [==============================] - 1s 97us/step - loss: 1.0985e-07 - acc: 1.0000\n",
      "Epoch 50/50\n",
      "8000/8000 [==============================] - 1s 98us/step - loss: 1.0981e-07 - acc: 1.0000\n"
     ]
    },
    {
     "data": {
      "text/plain": [
       "<keras.callbacks.History at 0x7f2e50f47ef0>"
      ]
     },
     "execution_count": 135,
     "metadata": {},
     "output_type": "execute_result"
    }
   ],
   "source": [
    "model2.fit(x_train, y_train, epochs=50)"
   ]
  },
  {
   "cell_type": "code",
   "execution_count": null,
   "metadata": {},
   "outputs": [],
   "source": []
  }
 ],
 "metadata": {
  "kernelspec": {
   "display_name": "Python 3",
   "language": "python",
   "name": "python3"
  },
  "language_info": {
   "codemirror_mode": {
    "name": "ipython",
    "version": 3
   },
   "file_extension": ".py",
   "mimetype": "text/x-python",
   "name": "python",
   "nbconvert_exporter": "python",
   "pygments_lexer": "ipython3",
   "version": "3.6.8"
  }
 },
 "nbformat": 4,
 "nbformat_minor": 2
}
